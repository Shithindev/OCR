{
 "cells": [
  {
   "cell_type": "code",
   "execution_count": 20,
   "metadata": {},
   "outputs": [],
   "source": [
    "import cv2\n",
    "import pytesseract"
   ]
  },
  {
   "cell_type": "code",
   "execution_count": 21,
   "metadata": {},
   "outputs": [],
   "source": [
    "img=cv2.imread(r'D:\\DL Projects\\OCR\\gmail_img.jpeg')"
   ]
  },
  {
   "cell_type": "code",
   "execution_count": 32,
   "metadata": {},
   "outputs": [],
   "source": [
    "import re\n",
    "n=len(dic['text'])\n",
    "for i in range(n):\n",
    "    if dic['conf'][i]>50:\n",
    "        if re.search(r'^[a-zA-Z0-9+_.-]+@[a-zA-Z0-9.-]+$',dic['text'][i]):\n",
    "            x, y, w, h = dic['left'][i], dic['top'][i], dic['width'][i], dic['height'][i]\n",
    "            cv2.rectangle(img,(x,y),(x+w,y+h),(255,0,0),4)\n",
    "cv2.imshow('image',img)\n",
    "cv2.waitKey()\n",
    "cv2.destroyAllWindows()"
   ]
  }
 ],
 "metadata": {
  "kernelspec": {
   "display_name": "Python 3",
   "language": "python",
   "name": "python3"
  },
  "language_info": {
   "name": "python",
   "version": "3.11.1"
  },
  "orig_nbformat": 4
 },
 "nbformat": 4,
 "nbformat_minor": 2
}
