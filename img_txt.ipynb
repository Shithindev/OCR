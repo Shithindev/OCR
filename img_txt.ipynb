{
 "cells": [
  {
   "cell_type": "code",
   "execution_count": 28,
   "metadata": {},
   "outputs": [],
   "source": [
    "import pytesseract\n",
    "import cv2\n"
   ]
  },
  {
   "cell_type": "code",
   "execution_count": 29,
   "metadata": {},
   "outputs": [],
   "source": [
    "# \"C:\\Program Files\\Tesseract-OCR\\tesseract.exe\"\n",
    "pytesseract.pytesseract.tesseract_cmd=r\"C:\\Program Files\\Tesseract-OCR\\tesseract.exe\"\n"
   ]
  },
  {
   "cell_type": "code",
   "execution_count": 30,
   "metadata": {},
   "outputs": [
    {
     "data": {
      "text/plain": [
       "array([[[ 6,  5,  1],\n",
       "        [ 6,  5,  1],\n",
       "        [ 6,  5,  1],\n",
       "        ...,\n",
       "        [ 9,  4,  1],\n",
       "        [ 9,  4,  1],\n",
       "        [ 9,  4,  1]],\n",
       "\n",
       "       [[ 6,  5,  1],\n",
       "        [ 6,  5,  1],\n",
       "        [ 6,  5,  1],\n",
       "        ...,\n",
       "        [ 9,  4,  1],\n",
       "        [ 9,  4,  1],\n",
       "        [ 9,  4,  1]],\n",
       "\n",
       "       [[ 6,  5,  1],\n",
       "        [ 6,  5,  1],\n",
       "        [ 6,  5,  1],\n",
       "        ...,\n",
       "        [ 9,  4,  1],\n",
       "        [ 9,  4,  1],\n",
       "        [ 9,  4,  1]],\n",
       "\n",
       "       ...,\n",
       "\n",
       "       [[ 8,  3,  0],\n",
       "        [ 9,  4,  1],\n",
       "        [ 9,  4,  1],\n",
       "        ...,\n",
       "        [12,  7,  4],\n",
       "        [12,  7,  4],\n",
       "        [12,  7,  4]],\n",
       "\n",
       "       [[ 8,  3,  0],\n",
       "        [ 9,  4,  1],\n",
       "        [ 9,  4,  1],\n",
       "        ...,\n",
       "        [12,  7,  4],\n",
       "        [12,  7,  4],\n",
       "        [12,  7,  4]],\n",
       "\n",
       "       [[ 8,  3,  0],\n",
       "        [ 9,  4,  1],\n",
       "        [ 9,  4,  1],\n",
       "        ...,\n",
       "        [12,  7,  4],\n",
       "        [12,  7,  4],\n",
       "        [12,  7,  4]]], dtype=uint8)"
      ]
     },
     "execution_count": 30,
     "metadata": {},
     "output_type": "execute_result"
    }
   ],
   "source": [
    "img=cv2.imread(r'D:\\DL Projects\\OCR\\2.jpg')\n",
    "img"
   ]
  },
  {
   "cell_type": "code",
   "execution_count": 31,
   "metadata": {},
   "outputs": [],
   "source": [
    "cv2.imshow('image',img)\n",
    "cv2.waitKey()\n",
    "cv2.destroyAllWindows()"
   ]
  },
  {
   "cell_type": "code",
   "execution_count": 32,
   "metadata": {},
   "outputs": [
    {
     "name": "stdout",
     "output_type": "stream",
     "text": [
      "MoonShine\n",
      "\n"
     ]
    }
   ],
   "source": [
    "text=pytesseract.image_to_string(img)\n",
    "print(text)"
   ]
  },
  {
   "cell_type": "code",
   "execution_count": 33,
   "metadata": {},
   "outputs": [
    {
     "name": "stdout",
     "output_type": "stream",
     "text": [
      "This is a lot of 12 point text to test the\n",
      "ocr code and see if it works on all types\n",
      "of file format.\n",
      "\n",
      "The quick brown dog jumped over the\n",
      "lazy fox. The quick brown dog jumped\n",
      "over the lazy fox. The quick brown dog\n",
      "jumped over the lazy fox. The quick\n",
      "brown dog jumped over the lazy fox.\n",
      "\n"
     ]
    }
   ],
   "source": [
    "img1=cv2.imread(r'D:\\DL Projects\\OCR\\test.png')\n",
    "text1=pytesseract.image_to_string(img1)\n",
    "print(text1)"
   ]
  },
  {
   "cell_type": "code",
   "execution_count": 34,
   "metadata": {},
   "outputs": [
    {
     "name": "stdout",
     "output_type": "stream",
     "text": [
      "level\tpage_num\tblock_num\tpar_num\tline_num\tword_num\tleft\ttop\twidth\theight\tconf\ttext\n",
      "1\t1\t0\t0\t0\t0\t0\t0\t291\t173\t-1\t\n",
      "2\t1\t1\t0\t0\t0\t43\t75\t210\t32\t-1\t\n",
      "3\t1\t1\t1\t0\t0\t43\t75\t210\t32\t-1\t\n",
      "4\t1\t1\t1\t1\t0\t43\t75\t210\t32\t-1\t\n",
      "5\t1\t1\t1\t1\t1\t43\t75\t210\t32\t91.127594\tMoonShine\n",
      "\n"
     ]
    }
   ],
   "source": [
    "text3=pytesseract.image_to_data(img)\n",
    "print(text3)"
   ]
  },
  {
   "cell_type": "code",
   "execution_count": 35,
   "metadata": {},
   "outputs": [
    {
     "name": "stdout",
     "output_type": "stream",
     "text": [
      "{'level': [1, 2, 3, 4, 5], 'page_num': [1, 1, 1, 1, 1], 'block_num': [0, 1, 1, 1, 1], 'par_num': [0, 0, 1, 1, 1], 'line_num': [0, 0, 0, 1, 1], 'word_num': [0, 0, 0, 0, 1], 'left': [0, 43, 43, 43, 43], 'top': [0, 75, 75, 75, 75], 'width': [291, 210, 210, 210, 210], 'height': [173, 32, 32, 32, 32], 'conf': [-1, -1, -1, -1, 91], 'text': ['', '', '', '', 'MoonShine']}\n"
     ]
    }
   ],
   "source": [
    "#img_to_data in dictionary output type\n",
    "dic=pytesseract.image_to_data(img,output_type=pytesseract.Output.DICT)\n",
    "print(dic)"
   ]
  },
  {
   "cell_type": "code",
   "execution_count": 38,
   "metadata": {},
   "outputs": [
    {
     "data": {
      "text/plain": [
       "'MoonShine'"
      ]
     },
     "execution_count": 38,
     "metadata": {},
     "output_type": "execute_result"
    }
   ],
   "source": [
    "dic['text'][4]"
   ]
  },
  {
   "cell_type": "code",
   "execution_count": 49,
   "metadata": {},
   "outputs": [
    {
     "name": "stdout",
     "output_type": "stream",
     "text": [
      "MoonShine\n"
     ]
    }
   ],
   "source": [
    "n=len(dic['text'])\n",
    "for i in range(n):\n",
    "    if dic['conf'][i]>45:\n",
    "        print(dic['text'][i])\n",
    "        x, y, w, h = dic['left'][i], dic['top'][i], dic['width'][i], dic['height'][i]\n",
    "        cv2.rectangle(img,(x,y),(x+w,y+h),(255,0,0),4)\n",
    "cv2.imshow('IMAGE',img)\n",
    "cv2.waitKey()\n",
    "cv2.destroyAllWindows()\n"
   ]
  },
  {
   "cell_type": "code",
   "execution_count": 50,
   "metadata": {},
   "outputs": [
    {
     "name": "stdout",
     "output_type": "stream",
     "text": [
      "{'level': [1, 2, 3, 4, 5, 5, 5, 5, 5, 5, 5, 5, 5, 5, 5, 4, 5, 5, 5, 5, 5, 5, 5, 5, 5, 5, 4, 5, 5, 5, 3, 4, 5, 5, 5, 5, 5, 5, 5, 4, 5, 5, 5, 5, 5, 5, 5, 4, 5, 5, 5, 5, 5, 5, 5, 5, 4, 5, 5, 5, 5, 5, 5, 5, 4, 5, 5, 5, 5, 5, 5, 5], 'page_num': [1, 1, 1, 1, 1, 1, 1, 1, 1, 1, 1, 1, 1, 1, 1, 1, 1, 1, 1, 1, 1, 1, 1, 1, 1, 1, 1, 1, 1, 1, 1, 1, 1, 1, 1, 1, 1, 1, 1, 1, 1, 1, 1, 1, 1, 1, 1, 1, 1, 1, 1, 1, 1, 1, 1, 1, 1, 1, 1, 1, 1, 1, 1, 1, 1, 1, 1, 1, 1, 1, 1, 1], 'block_num': [0, 1, 1, 1, 1, 1, 1, 1, 1, 1, 1, 1, 1, 1, 1, 1, 1, 1, 1, 1, 1, 1, 1, 1, 1, 1, 1, 1, 1, 1, 1, 1, 1, 1, 1, 1, 1, 1, 1, 1, 1, 1, 1, 1, 1, 1, 1, 1, 1, 1, 1, 1, 1, 1, 1, 1, 1, 1, 1, 1, 1, 1, 1, 1, 1, 1, 1, 1, 1, 1, 1, 1], 'par_num': [0, 0, 1, 1, 1, 1, 1, 1, 1, 1, 1, 1, 1, 1, 1, 1, 1, 1, 1, 1, 1, 1, 1, 1, 1, 1, 1, 1, 1, 1, 2, 2, 2, 2, 2, 2, 2, 2, 2, 2, 2, 2, 2, 2, 2, 2, 2, 2, 2, 2, 2, 2, 2, 2, 2, 2, 2, 2, 2, 2, 2, 2, 2, 2, 2, 2, 2, 2, 2, 2, 2, 2], 'line_num': [0, 0, 0, 1, 1, 1, 1, 1, 1, 1, 1, 1, 1, 1, 1, 2, 2, 2, 2, 2, 2, 2, 2, 2, 2, 2, 3, 3, 3, 3, 0, 1, 1, 1, 1, 1, 1, 1, 1, 2, 2, 2, 2, 2, 2, 2, 2, 3, 3, 3, 3, 3, 3, 3, 3, 3, 4, 4, 4, 4, 4, 4, 4, 4, 5, 5, 5, 5, 5, 5, 5, 5], 'word_num': [0, 0, 0, 0, 1, 2, 3, 4, 5, 6, 7, 8, 9, 10, 11, 0, 1, 2, 3, 4, 5, 6, 7, 8, 9, 10, 0, 1, 2, 3, 0, 0, 1, 2, 3, 4, 5, 6, 7, 0, 1, 2, 3, 4, 5, 6, 7, 0, 1, 2, 3, 4, 5, 6, 7, 8, 0, 1, 2, 3, 4, 5, 6, 7, 0, 1, 2, 3, 4, 5, 6, 7], 'left': [0, 36, 36, 36, 36, 109, 141, 169, 212, 251, 296, 374, 437, 474, 536, 36, 36, 91, 172, 236, 299, 325, 348, 445, 500, 541, 36, 36, 72, 123, 36, 36, 36, 102, 189, 287, 348, 468, 540, 37, 37, 103, 165, 232, 319, 417, 478, 36, 36, 109, 165, 231, 294, 360, 447, 545, 43, 43, 162, 235, 292, 357, 420, 486, 37, 37, 135, 196, 316, 388, 445, 511], 'top': [0, 92, 92, 92, 92, 92, 98, 92, 92, 92, 92, 93, 93, 93, 92, 126, 132, 126, 126, 132, 126, 126, 126, 132, 126, 127, 160, 160, 160, 160, 194, 194, 194, 194, 194, 194, 194, 200, 194, 228, 228, 228, 228, 228, 228, 228, 228, 262, 268, 262, 262, 262, 262, 262, 262, 262, 296, 296, 302, 296, 296, 296, 296, 296, 330, 330, 330, 330, 336, 330, 330, 330], 'width': [640, 582, 582, 544, 60, 20, 15, 32, 28, 31, 68, 53, 26, 52, 44, 582, 45, 69, 51, 50, 15, 14, 85, 33, 29, 77, 187, 28, 41, 100, 561, 549, 55, 75, 85, 52, 108, 63, 45, 548, 55, 50, 55, 75, 85, 51, 107, 561, 63, 44, 56, 50, 55, 75, 85, 52, 518, 107, 64, 44, 55, 50, 55, 75, 524, 85, 52, 108, 63, 45, 55, 50], 'height': [480, 269, 92, 30, 24, 24, 18, 24, 24, 24, 30, 23, 23, 23, 24, 31, 18, 24, 24, 18, 24, 24, 24, 18, 24, 30, 24, 24, 24, 24, 167, 31, 24, 30, 24, 31, 31, 18, 24, 31, 31, 24, 24, 30, 24, 31, 31, 31, 18, 24, 31, 24, 24, 30, 24, 31, 31, 31, 18, 24, 31, 24, 24, 30, 31, 24, 31, 31, 18, 24, 31, 24], 'conf': [-1, -1, -1, -1, 96, 96, 95, 95, 96, 96, 96, 96, 96, 96, 96, -1, 95, 95, 96, 96, 94, 94, 96, 94, 91, 96, -1, 96, 95, 95, -1, -1, 96, 96, 96, 96, 96, 96, 96, -1, 95, 96, 96, 96, 96, 95, 95, -1, 96, 96, 96, 96, 96, 96, 96, 96, -1, 96, 95, 95, 95, 96, 96, 96, -1, 96, 96, 96, 96, 96, 96, 96], 'text': ['', '', '', '', 'This', 'is', 'a', 'lot', 'of', '12', 'point', 'text', 'to', 'test', 'the', '', 'ocr', 'code', 'and', 'see', 'if', 'it', 'works', 'on', 'all', 'types', '', 'of', 'file', 'format.', '', '', 'The', 'quick', 'brown', 'dog', 'jumped', 'over', 'the', '', 'lazy', 'fox.', 'The', 'quick', 'brown', 'dog', 'jumped', '', 'over', 'the', 'lazy', 'fox.', 'The', 'quick', 'brown', 'dog', '', 'jumped', 'over', 'the', 'lazy', 'fox.', 'The', 'quick', '', 'brown', 'dog', 'jumped', 'over', 'the', 'lazy', 'fox.']}\n"
     ]
    }
   ],
   "source": [
    "img1=cv2.imread(r'D:\\DL Projects\\OCR\\test.png')\n",
    "dic1=pytesseract.image_to_data(img1,output_type=pytesseract.Output.DICT)\n",
    "print(dic1)"
   ]
  },
  {
   "cell_type": "code",
   "execution_count": 58,
   "metadata": {},
   "outputs": [],
   "source": [
    "n=len(dic1['text'])\n",
    "for i in range(n):\n",
    "  if dic1['text'][i]=='dog':\n",
    "    x,y,w,h=dic1['left'][i],dic1['top'][i],dic1['width'][i],dic1['height'][i]\n",
    "    cv2.rectangle(img1,(x,y),(x+w,y+h),(0,0,255),4)\n",
    "cv2.imshow('IMAGEE',img1)\n",
    "cv2.waitKey()\n",
    "cv2.destroyAllWindows()"
   ]
  }
 ],
 "metadata": {
  "kernelspec": {
   "display_name": "Python 3",
   "language": "python",
   "name": "python3"
  },
  "language_info": {
   "codemirror_mode": {
    "name": "ipython",
    "version": 3
   },
   "file_extension": ".py",
   "mimetype": "text/x-python",
   "name": "python",
   "nbconvert_exporter": "python",
   "pygments_lexer": "ipython3",
   "version": "3.11.1"
  },
  "orig_nbformat": 4
 },
 "nbformat": 4,
 "nbformat_minor": 2
}
